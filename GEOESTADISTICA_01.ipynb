{
  "nbformat": 4,
  "nbformat_minor": 0,
  "metadata": {
    "colab": {
      "provenance": [],
      "authorship_tag": "ABX9TyP4O4ZZ2Ig1xAMYP7Mqm4Ff",
      "include_colab_link": true
    },
    "kernelspec": {
      "name": "python3",
      "display_name": "Python 3"
    },
    "language_info": {
      "name": "python"
    }
  },
  "cells": [
    {
      "cell_type": "markdown",
      "metadata": {
        "id": "view-in-github",
        "colab_type": "text"
      },
      "source": [
        "<a href=\"https://colab.research.google.com/github/EKCA040602/Geoestadistica-/blob/main/GEOESTADISTICA_01.ipynb\" target=\"_parent\"><img src=\"https://colab.research.google.com/assets/colab-badge.svg\" alt=\"Open In Colab\"/></a>"
      ]
    },
    {
      "cell_type": "code",
      "source": [
        "import pandas as pd\n",
        "import numpy as np\n",
        "\n",
        "\n",
        "dataMadre=pd.read_excel(\"/content/DATA_MADRE.xlsx\",header=1)\n"
      ],
      "metadata": {
        "id": "dHBQHtMAfCf1"
      },
      "execution_count": null,
      "outputs": []
    },
    {
      "cell_type": "code",
      "source": [
        "#Limpieza de data\n",
        "\n",
        "Nombre_de_columna=list(dataMadre.columns)\n",
        "\n",
        "def primera_limpieza():\n",
        "  columna_vacia=[]\n",
        "  for i in Nombre_de_columna:\n",
        "    if  dataMadre[i].dtype==\"object\" and all (dataMadre[i].isin([\"N.R.\"])):\n",
        "        columna_vacia.append(i)\n",
        "  df=dataMadre.drop(columna_vacia,axis=1)\n",
        "  return df\n",
        "\n",
        "tabla_de_limpieza_de_NR=primera_limpieza()\n",
        "\n"
      ],
      "metadata": {
        "id": "PJHdUBZHflB4"
      },
      "execution_count": null,
      "outputs": []
    },
    {
      "cell_type": "code",
      "source": [
        "Nombre_de_columna_filtradas=list(tabla_de_limpieza_de_NR.columns)\n",
        "Nombre_de_columna_filtradas\n",
        "# len(Nombre_de_columna_filtradas)"
      ],
      "metadata": {
        "id": "s4NDyQgyOdjE"
      },
      "execution_count": null,
      "outputs": []
    },
    {
      "cell_type": "code",
      "source": [
        "tabla_de_verificacion=pd.read_excel(\"/content/VERIFICACION_DE_ELEMENTOS.xlsx\")\n",
        "# p=tabla_de_verificacion[tabla_de_verificacion[\"SIMBOLO\"]==\"U\"]\n",
        "\n",
        "# q=tabla_de_verificacion[tabla_de_verificacion[\"SIMBOLO\"].str.contains(\"a\")]\n",
        "# print(q)\n",
        "# metodo=tabla_de_verificacion[ tabla_de_verificacion[tabla_de_verificacion[\"1ER METODO\"]==\"4 acidos\"] and tabla_de_verificacion[tabla_de_verificacion[\"2DO METODO\"]==\"4 acidos\" ]]\n",
        "\n",
        "#Codifique con  que metodo esta trabajando\n",
        "def metodo(met):\n",
        "  metodo=tabla_de_verificacion[(tabla_de_verificacion[\"1ER METODO\"]==met) | (tabla_de_verificacion[\"2DO METODO\"]==met)]\n",
        "  elementos=list(metodo[\"SIMBOLO\"])\n",
        "  return elementos\n",
        "\n",
        "elementos_validos=metodo(\"4 acidos\")\n"
      ],
      "metadata": {
        "id": "GFfxuL_dqz4j"
      },
      "execution_count": null,
      "outputs": []
    },
    {
      "cell_type": "code",
      "source": [
        "# tabl_de_limpieza_de_NR.shape\n",
        "len(elementos_validos)"
      ],
      "metadata": {
        "colab": {
          "base_uri": "https://localhost:8080/"
        },
        "id": "MufTYCXhjIyI",
        "outputId": "74e1d9c9-3e7d-4367-a4a8-ca8b1009c38d"
      },
      "execution_count": null,
      "outputs": [
        {
          "output_type": "execute_result",
          "data": {
            "text/plain": [
              "49"
            ]
          },
          "metadata": {},
          "execution_count": 6
        }
      ]
    },
    {
      "cell_type": "code",
      "source": [
        "# Elementos_de_una_letra=[\"H\",\"B\",\"C\",\"N\",\"O\",\"F\",\"P\",\"S\",\"K\",\"I\",\"Y\",\"V\",\"W\"]\n",
        "\n",
        "def filtro():\n",
        "  new_filtro=[]\n",
        "  for i in  Nombre_de_columna_filtradas:\n",
        "    #CHEQUEAR EL ORO\n",
        "    if i.startswith(\"Au\"):\n",
        "      new_filtro.append(i)\n",
        "\n",
        "    for j in elementos_validos :\n",
        "      # if i.startswith(j) and (i.endswith(\"ppb\") or i.endswith(\"ppm\") or i.endswith(\"pct\")):\n",
        "      if (i.startswith(f\"{j}_\") and len(i)==5) or  (i.startswith(f\"{j}_\") and len(i)==6) or (i.startswith(f\"{j}_1\")):\n",
        "        new_filtro.append(i)\n",
        "  return new_filtro\n",
        "\n",
        "elementos_aprobados=filtro()\n",
        "elementos_aprobados\n",
        "# len(elementos_aprobados)"
      ],
      "metadata": {
        "id": "USrWTakHBhsp"
      },
      "execution_count": null,
      "outputs": []
    },
    {
      "cell_type": "code",
      "source": [
        "cleanTableFor4acid=tabla_de_limpieza_de_NR[elementos_aprobados]\n",
        "cleanTableFor4acid\n",
        "\n",
        "#Falta parte de censura"
      ],
      "metadata": {
        "id": "RvhoUvElPjNE"
      },
      "execution_count": null,
      "outputs": []
    },
    {
      "cell_type": "code",
      "source": [
        "for i in elementos_aprobados:\n",
        "  cleanTableFor4acid[i] = cleanTableFor4acid[i].astype(object)\n",
        "  cleanTableFor4acid[i] .dtype"
      ],
      "metadata": {
        "id": "a1Rj1aU52W22"
      },
      "execution_count": null,
      "outputs": []
    },
    {
      "cell_type": "code",
      "source": [
        "cleanTableFor4acid"
      ],
      "metadata": {
        "id": "9EJLRNrG2ztd"
      },
      "execution_count": null,
      "outputs": []
    },
    {
      "cell_type": "code",
      "source": [
        "longitud=len(cleanTableFor4acid)\n",
        "longitud"
      ],
      "metadata": {
        "colab": {
          "base_uri": "https://localhost:8080/"
        },
        "id": "jeFlwsxt2Jt9",
        "outputId": "45786fcd-c623-49c3-862e-eec4ce47333f"
      },
      "execution_count": null,
      "outputs": [
        {
          "output_type": "execute_result",
          "data": {
            "text/plain": [
              "829"
            ]
          },
          "metadata": {},
          "execution_count": 48
        }
      ]
    },
    {
      "cell_type": "code",
      "source": [
        "def censura_elemento():\n",
        "  lc=[]\n",
        "  for i  in elementos_aprobados:\n",
        "    for j in range(0,longitud):\n",
        "      if (str(cleanTableFor4acid[i][j]).startswith(\"<\") or str(cleanTableFor4acid[i][j]).startswith(\">\")):\n",
        "        lc.append(i)\n",
        "  lc=list(set(lc))\n",
        "  return lc\n",
        "\n",
        "elementos_a_chequear=censura_elemento()\n",
        "\n",
        "elementos_a_chequear\n",
        "\n",
        "# def modificar(datos):\n",
        "#   cleanTableFor4acid[datos]\n",
        "\n",
        "\n"
      ],
      "metadata": {
        "id": "Hl2FBaHZy8q1"
      },
      "execution_count": null,
      "outputs": []
    },
    {
      "cell_type": "code",
      "source": [
        "def censura_elemento_porcentaje():\n",
        "  porcentaje=[]\n",
        "  for i  in elementos_a_chequear:\n",
        "    c=0\n",
        "    for j in range(0,longitud):\n",
        "      if (str(cleanTableFor4acid[i][j]).startswith(\"<\")):\n",
        "        c+=1\n",
        "    d=round(((c*100)/longitud),2)\n",
        "    porcentaje.append(d)\n",
        "  return porcentaje\n",
        "\n",
        "prcj=censura_elemento_porcentaje()\n",
        "columnas_censuradas=dict(zip(elementos_a_chequear,prcj))\n",
        "columnas_censuradas"
      ],
      "metadata": {
        "id": "4xsmRX_HF1jU"
      },
      "execution_count": null,
      "outputs": []
    },
    {
      "cell_type": "code",
      "source": [
        "prcj=censura_elemento_porcentaje()\n",
        "columnas_censuradas=dict(zip(elementos_a_chequear,prcj))\n",
        "#Aqui esta las columnas que deben ser censuradas\n",
        "c_c=[]\n",
        "for i,j in columnas_censuradas.items():\n",
        "  if columnas_censuradas[i]>=10 :\n",
        "    c_c.append(i)\n",
        "#SOLO PARA ORO\n",
        "c_c.remove('Au_ppb')\n",
        "c_c"
      ],
      "metadata": {
        "colab": {
          "base_uri": "https://localhost:8080/"
        },
        "id": "sbFzacUlMkfm",
        "outputId": "3641f312-f3f9-4310-f39b-70ed5dff1d26"
      },
      "execution_count": null,
      "outputs": [
        {
          "output_type": "execute_result",
          "data": {
            "text/plain": [
              "['In_ppm', 'Te_ppm', 'Na_pct', 'Se_ppm', 'Hf_ppm']"
            ]
          },
          "metadata": {},
          "execution_count": 52
        }
      ]
    },
    {
      "cell_type": "code",
      "source": [
        "cleanTableFor4acid[cleanTableFor4acid[\"Au_ppb\"]==\"<5\"]"
      ],
      "metadata": {
        "id": "TgEC9sOoecMf"
      },
      "execution_count": null,
      "outputs": []
    },
    {
      "cell_type": "code",
      "source": [
        "def censurados():\n",
        "  for i  in elementos_aprobados:\n",
        "    for j in range(0,longitud):\n",
        "      if str(cleanTableFor4acid[i][j]).startswith(\"<\") :\n",
        "          cleanTableFor4acid[i][j]=str(float(cleanTableFor4acid[i][j][1:])/2)\n",
        "      if str(cleanTableFor4acid[i][j]).startswith(\">\"):\n",
        "          cleanTableFor4acid[i][j]=str(float(cleanTableFor4acid[i][j][1:])+0.1)\n",
        "  return cleanTableFor4acid\n",
        "\n",
        "data_casi_limpia=censurados()\n",
        "data_limpia_elementos=data_casi_limpia.drop(c_c,axis=1)\n",
        "\n",
        "#DATA PARA ANALIZAR\n",
        "\n",
        "\n",
        "columnas_limpias=list(data_limpia_elementos.columns)\n",
        "\n",
        "#De STRING A FLOAT\n",
        "\n",
        "for i in columnas_limpias:\n",
        "  data_limpia_elementos[i] = data_limpia_elementos[i].astype(float)\n",
        "  data_limpia_elementos[i] .dtype\n",
        "\n",
        "data_limpia_elementos.to_excel(\"/content/TABLA_DE_SOLO_ELEMENTOS.xlsx\",sheet_name=\"pag\",)"
      ],
      "metadata": {
        "id": "QG5Q84xeAv3P"
      },
      "execution_count": null,
      "outputs": []
    },
    {
      "cell_type": "code",
      "source": [
        "#DATA CON DESCRIPCION Y ELEMENTOS\n",
        "\n",
        "\n",
        "Nombre_de_columna=Nombre_de_columna[:25]\n",
        "data_limpia_desc_y_ele=dataMadre[Nombre_de_columna].copy()\n",
        "data_limpia_desc_y_ele[columnas_limpias]=data_limpia_elementos[columnas_limpias]\n",
        "\n",
        "data_limpia_desc_y_ele.to_excel(\"/content/TABLA_DE_ELEMENTOS_Y_DESCRIPCION.xlsx\",sheet_name=\"pag\",)"
      ],
      "metadata": {
        "id": "dUqBGSi3OhRm"
      },
      "execution_count": null,
      "outputs": []
    },
    {
      "cell_type": "code",
      "source": [
        "#GRAFICOS HISTOGRAMA Y BOXPLOT\n",
        "import matplotlib.pyplot as plt\n",
        "import seaborn as sns\n",
        "import pandas as pd\n",
        "import numpy as np\n",
        "\n",
        "\n",
        "elemnt_con_log=pd.read_excel(\"/content/TABLA_DE_SOLO_ELEMENTOS_CON_ORO_LOG.xlsx\")\n",
        "elemnt_con_log.describe()"
      ],
      "metadata": {
        "id": "Op0YOT6K5_IW"
      },
      "execution_count": null,
      "outputs": []
    },
    {
      "cell_type": "markdown",
      "source": [],
      "metadata": {
        "id": "DAQUXonLdQnX"
      }
    },
    {
      "cell_type": "markdown",
      "source": [
        "Si la prueba de Shapiro-Wilk produce un valor p alto (por ejemplo, **superior a 0.05**), el **histograma muestra una forma de campana y los puntos en el QQ plot se encuentran cerca de una línea recta,** entonces es probable que los datos sigan una distribución normal.\n",
        "Si la prueba de Shapiro-Wilk produce un valor p bajo (por ejemplo, inferior a 0.\n",
        "05), el histograma tiene una forma diferente a la campana o los puntos en el QQ plot se desvían significativamente de la línea recta, entonces es menos probable que los datos sigan una distribución normal."
      ],
      "metadata": {
        "id": "PLPz2wvHZaRg"
      }
    },
    {
      "cell_type": "code",
      "source": [
        "#BUSCA EN EL LINK CUANDO LLEGUES A QQPLOT\n",
        "#https://seaborn-qqplot.readthedocs.io/en/latest/\n"
      ],
      "metadata": {
        "id": "gw4ZI_uPZYzU"
      },
      "execution_count": null,
      "outputs": []
    },
    {
      "cell_type": "code",
      "source": [
        "# Statsmodels: Ofrece la función qqplot para generar gráficos QQ.---OJITO\n",
        "\n",
        "# import plotly.graph_objects as go\n",
        "\n",
        "# import ipywidgets as widgets\n",
        "\n",
        "# def graficos_plotly(header):\n",
        "#   trace1=go.Box(y=elemnt_con_log[header],name=header,boxpoints='suspectedoutliers', marker=dict(\n",
        "#         color='rgb(8,81,156)',\n",
        "#         outliercolor='rgba(219, 64, 82, 0.6)',\n",
        "#         line=dict(\n",
        "#             outliercolor='rgba(219, 64, 82, 0.6)',\n",
        "#             outlierwidth=2)),\n",
        "#     line_color='rgb(8,81,156)')\n",
        "#   trace2=go.Histogram(x=elemnt_con_log[header],name=header,nbinsx=30)\n",
        "#   fig = go.Figure(data=[ trace2])\n",
        "#   fig.show()\n",
        "\n",
        "# graficos_plotly(\"S_pct LOG\")\n",
        "elemnt_con_log.describe().T"
      ],
      "metadata": {
        "id": "8dUxnfbFQRT4"
      },
      "execution_count": null,
      "outputs": []
    },
    {
      "cell_type": "markdown",
      "source": [
        "Chamba de 8.10-->Retiro de valores atipicos[circulo] y atipicos extremos[estrella][GENERA QUE POBLACION NO SE PUEDA NORMALIZAR]\n",
        "\n",
        "Identificamos con la formula estos valores atipicos y atipicos extremos (limite donde inicia el atipico) y eliminamos esa data del excel que tengan valoress mayores a ese numero.\n"
      ],
      "metadata": {
        "id": "-LtQwwHzwdhL"
      }
    },
    {
      "cell_type": "code",
      "source": [
        "#VAMOS A HACER UN FILTRADO Y N VECES PARA TENER BUENA DATA\n",
        "def filtrado_de_outlayers(numero):\n",
        "  for i in range(0,numero):\n",
        "    calculo_cuartil=elemnt_con_log.describe().T\n",
        "#CALCULO DE BIGOTE INFERIOR Y SUPERIOR\n",
        "    inferior=list(calculo_cuartil[\"25%\"]-1.5*(calculo_cuartil[\"75%\"]-calculo_cuartil[\"25%\"]))\n",
        "    superior=list(calculo_cuartil[\"75%\"]+1.5*(calculo_cuartil[\"75%\"]-calculo_cuartil[\"25%\"]))\n",
        "    calculo_cuartil[\"BIGOTE_INFERIOR\"]=inferior\n",
        "    calculo_cuartil[\"BIGOTE_SUPERIOR\"]=superior\n",
        "    elementos=list(elemnt_con_log.columns)\n",
        "    fila_cantidad=len(elemnt_con_log)\n",
        "    for  i,infe,supe in zip(elementos,inferior,superior):\n",
        "      for j in range(0,fila_cantidad):\n",
        "        if float(elemnt_con_log[i][j])<infe or float(elemnt_con_log[i][j])>supe:\n",
        "          elemnt_con_log[i][j]=None\n",
        "\n",
        "  return elemnt_con_log.describe().T.to_excel(\"/content/TABLA_DE_DATOS_ESTADISTICOS.xlsx\",sheet_name=\"Hoja1\",)\n",
        "\n",
        "filtrado_de_outlayers(4)"
      ],
      "metadata": {
        "id": "2lIn2EwnSuad"
      },
      "execution_count": null,
      "outputs": []
    },
    {
      "cell_type": "code",
      "source": [
        "# elemnt_con_log.describe().T\n",
        "\n",
        "Nombre_de_columna=Nombre_de_columna[:25]\n",
        "log_conBS_Y_BI=dataMadre[Nombre_de_columna].copy()\n",
        "\n",
        "log_conBS_Y_BI[list(elemnt_con_log.columns)]=elemnt_con_log[list(elemnt_con_log.columns)]\n",
        "log_conBS_Y_BI\n",
        "\n",
        "log_conBS_Y_BI.to_excel(\"/content/log_conBS_Y_BI.xlsx\",sheet_name=\"Hoja1\",)"
      ],
      "metadata": {
        "id": "YuxdO4tGHY3s"
      },
      "execution_count": null,
      "outputs": []
    },
    {
      "cell_type": "code",
      "source": [
        "#Capping de 95%\n",
        "\n",
        "ele=list(elemnt_con_log.columns)\n",
        "\n",
        "por_95=[]\n",
        "def capping():\n",
        "  for i in ele:\n",
        "    k=np.percentile(list(filter(lambda x:not pd.isna(x), elemnt_con_log[i])),q=95)\n",
        "    por_95.append(k)\n",
        "  return por_95\n",
        "\n",
        "#Listado de percentil 95\n",
        "pctj_capping=capping()\n",
        "pctj_capping = tuple(pctj_capping)\n",
        "\n",
        "header = dict(zip(ele, pctj_capping))\n"
      ],
      "metadata": {
        "id": "t0LZqQPXIAAY"
      },
      "execution_count": null,
      "outputs": []
    },
    {
      "cell_type": "code",
      "source": [
        "import ipywidgets as widgets\n",
        "def graficos(elemento):\n",
        "  fig, ax = plt.subplots(1,2,figsize=(10, 6))\n",
        "  sns.kdeplot(ax=ax[0],data=elemnt_con_log,x=elemento,pthresh=header.get(elemento),bins=30,fill=False,kde=True,binwidth=3)\n",
        "  sns.boxplot(ax=ax[1],data=elemnt_con_log,y=elemento)\n",
        "  plt.tight_layout()\n",
        "  plt.show()\n",
        "widgets.interact(graficos,elemento=ele)\n",
        "\n"
      ],
      "metadata": {
        "id": "epAaeY6EGXCv",
        "colab": {
          "base_uri": "https://localhost:8080/",
          "height": 193
        },
        "outputId": "a41705b3-8da9-4989-bb3e-bffd95f24aa7"
      },
      "execution_count": null,
      "outputs": [
        {
          "output_type": "error",
          "ename": "NameError",
          "evalue": "name 'ele' is not defined",
          "traceback": [
            "\u001b[0;31m---------------------------------------------------------------------------\u001b[0m",
            "\u001b[0;31mNameError\u001b[0m                                 Traceback (most recent call last)",
            "\u001b[0;32m<ipython-input-2-861f4d9aacb8>\u001b[0m in \u001b[0;36m<cell line: 8>\u001b[0;34m()\u001b[0m\n\u001b[1;32m      6\u001b[0m   \u001b[0mplt\u001b[0m\u001b[0;34m.\u001b[0m\u001b[0mtight_layout\u001b[0m\u001b[0;34m(\u001b[0m\u001b[0;34m)\u001b[0m\u001b[0;34m\u001b[0m\u001b[0;34m\u001b[0m\u001b[0m\n\u001b[1;32m      7\u001b[0m   \u001b[0mplt\u001b[0m\u001b[0;34m.\u001b[0m\u001b[0mshow\u001b[0m\u001b[0;34m(\u001b[0m\u001b[0;34m)\u001b[0m\u001b[0;34m\u001b[0m\u001b[0;34m\u001b[0m\u001b[0m\n\u001b[0;32m----> 8\u001b[0;31m \u001b[0mwidgets\u001b[0m\u001b[0;34m.\u001b[0m\u001b[0minteract\u001b[0m\u001b[0;34m(\u001b[0m\u001b[0mgraficos\u001b[0m\u001b[0;34m,\u001b[0m\u001b[0melemento\u001b[0m\u001b[0;34m=\u001b[0m\u001b[0mele\u001b[0m\u001b[0;34m)\u001b[0m\u001b[0;34m\u001b[0m\u001b[0;34m\u001b[0m\u001b[0m\n\u001b[0m\u001b[1;32m      9\u001b[0m \u001b[0;34m\u001b[0m\u001b[0m\n",
            "\u001b[0;31mNameError\u001b[0m: name 'ele' is not defined"
          ]
        }
      ]
    }
  ]
}